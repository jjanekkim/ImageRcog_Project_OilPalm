{
 "cells": [
  {
   "cell_type": "markdown",
   "metadata": {},
   "source": [
    "# Pipeline\n",
    "\n",
    "A pipeline refers to the infrastructure encompassing a machine learning algorithm. It involves various stages such as data collection, organizing data into training files, training one or more models, and deploying these models into production. Below is the structured pipeline designed for image recognition in oil palm plantations. Refer to the 'oilpalm_package.py' file for details on all the functions involved."
   ]
  },
  {
   "cell_type": "code",
   "execution_count": null,
   "metadata": {},
   "outputs": [],
   "source": [
    "import oilpalm_package as op"
   ]
  },
  {
   "cell_type": "code",
   "execution_count": null,
   "metadata": {},
   "outputs": [],
   "source": [
    "oilpalm_path = r\"C:\\Users\\nene0\\Downloads\\widsdatathon2019\\traininglabels.csv\"\n",
    "\n",
    "oilpalm = op.read_data(oilpalm_path)\n",
    "oilpalm = op.sorted_images(oilpalm)\n",
    "low_score, score_80, has_oilpalm, no_oilpam = op.dataframes_by_score(oilpalm)"
   ]
  },
  {
   "cell_type": "code",
   "execution_count": null,
   "metadata": {},
   "outputs": [],
   "source": [
    "op.save_train_test_labels(oilpalm)"
   ]
  },
  {
   "cell_type": "code",
   "execution_count": null,
   "metadata": {},
   "outputs": [],
   "source": [
    "new_oilpalm = r\"C:\\Users\\nene0\\OneDrive\\바탕 화면\\Python Learning\\DataScienceMod2_LFZ\\OilPalm_Kaggle\\train_label.csv\"\n",
    "train_label = op.read_data(new_oilpalm)\n",
    "low_score, score_80, has_oilpalm, no_oilpalm = op.dataframes_by_score(train_label)"
   ]
  },
  {
   "cell_type": "code",
   "execution_count": null,
   "metadata": {},
   "outputs": [],
   "source": [
    "op.num_values(low_score, score_80, has_oilpalm, no_oilpalm)"
   ]
  },
  {
   "cell_type": "code",
   "execution_count": null,
   "metadata": {},
   "outputs": [],
   "source": [
    "final_train_labels, final_target = op.final_dataframe_ds(has_oilpalm, score_80, no_oilpalm)\n",
    "train = op.image_data_cleaning_ds(final_train_labels)"
   ]
  },
  {
   "cell_type": "code",
   "execution_count": null,
   "metadata": {},
   "outputs": [],
   "source": [
    "op.pickle_save_data(train, \"train_data_ds\")\n",
    "op.pickle_save_data(final_target, \"target_data_ds\")"
   ]
  },
  {
   "cell_type": "code",
   "execution_count": null,
   "metadata": {},
   "outputs": [],
   "source": [
    "train_path = r\"C:\\Users\\nene0\\OneDrive\\바탕 화면\\Python Learning\\DataScienceMod2_LFZ\\OilPalm_Kaggle\\train_data_ds.pickle\"\n",
    "target_path = r\"C:\\Users\\nene0\\OneDrive\\바탕 화면\\Python Learning\\DataScienceMod2_LFZ\\OilPalm_Kaggle\\target_data_ds.pickle\"\n",
    "train = op.pickle_load_data(train_path)\n",
    "target = op.pickle_load_data(target_path)"
   ]
  },
  {
   "cell_type": "code",
   "execution_count": null,
   "metadata": {},
   "outputs": [],
   "source": [
    "model = op.build_model()\n",
    "history = op.train_model(train, target, model, num_batch_size=100, num_epochs=20)"
   ]
  },
  {
   "cell_type": "code",
   "execution_count": null,
   "metadata": {},
   "outputs": [],
   "source": [
    "test_path = r\"C:\\Users\\nene0\\OneDrive\\바탕 화면\\Python Learning\\DataScienceMod2_LFZ\\OilPalm_Kaggle\\test_label.csv\"\n",
    "\n",
    "test = op.read_data(test_path)\n",
    "test_true = test[['has_oilpalm']] # For real world test data there will be no true label, we are using test label for this project as test label was separated from original train.\n",
    "test = op.image_data_cleaning_ds(test)"
   ]
  },
  {
   "cell_type": "code",
   "execution_count": null,
   "metadata": {},
   "outputs": [],
   "source": [
    "test_pred = op.prediction(test, model)"
   ]
  },
  {
   "cell_type": "code",
   "execution_count": null,
   "metadata": {},
   "outputs": [],
   "source": [
    "op.print_metric(test_true, test_pred)"
   ]
  }
 ],
 "metadata": {
  "kernelspec": {
   "display_name": "Python 3",
   "language": "python",
   "name": "python3"
  },
  "language_info": {
   "codemirror_mode": {
    "name": "ipython",
    "version": 3
   },
   "file_extension": ".py",
   "mimetype": "text/x-python",
   "name": "python",
   "nbconvert_exporter": "python",
   "pygments_lexer": "ipython3",
   "version": "3.11.3"
  }
 },
 "nbformat": 4,
 "nbformat_minor": 2
}
